{
 "cells": [
  {
   "cell_type": "markdown",
   "metadata": {},
   "source": [
    "#线性网络结构"
   ]
  },
  {
   "cell_type": "markdown",
   "metadata": {},
   "source": [
    "##矢量化运算-tf"
   ]
  },
  {
   "cell_type": "code",
   "execution_count": 1,
   "metadata": {},
   "outputs": [],
   "source": [
    "%matplotlib inline\n",
    "import os\n",
    "os.environ['TF_CPP_MIN_LOG_LEVEL'] = '2'\n",
    "import math\n",
    "import time\n",
    "import numpy as np\n",
    "import tensorflow as tf\n",
    "from d2l import tensorflow as d2l"
   ]
  },
  {
   "cell_type": "code",
   "execution_count": 2,
   "metadata": {},
   "outputs": [],
   "source": [
    "#对比+和for loop的用时\n",
    "n = 10000\n",
    "a = tf.ones(n)\n",
    "b = tf.ones(n)\n",
    "# timer: 记录多次运行耗时\n",
    "class Timer:\n",
    "    def __init__(self) -> None:\n",
    "        self.times = [] # 耗时记录在times属性\n",
    "        self.start() # 开始计时\n",
    "    def start(self):\n",
    "        self.tik = time.time() # 启动计时器，启动时间记录在tik元素\n",
    "    def stop(self):\n",
    "        self.times.append(time.time() -  self.tik) # 记录耗时\n",
    "        return self.times[-1] # 返回刚刚记录的耗时\n",
    "    def avg(self):\n",
    "        return sum(self.times)/len(self.times) # 返回多次运行平均耗时\n",
    "    def sum(self):\n",
    "        return sum(self.times) # 返回多次运行总耗时\n",
    "    def cumsum(self):\n",
    "        return np.array(self.times).cumsum().tolist() # 返回逐次累积总耗时"
   ]
  },
  {
   "cell_type": "code",
   "execution_count": 3,
   "metadata": {},
   "outputs": [
    {
     "data": {
      "text/plain": [
       "<tf.Tensor: shape=(10000,), dtype=float32, numpy=array([1., 1., 1., ..., 1., 1., 1.], dtype=float32)>"
      ]
     },
     "execution_count": 3,
     "metadata": {},
     "output_type": "execute_result"
    }
   ],
   "source": []
  }
 ],
 "metadata": {
  "interpreter": {
   "hash": "358c856c2c9243453432cede0b7a0ffead5a19b5df3cbac804ae558d1878f503"
  },
  "kernelspec": {
   "display_name": "Python 3.8.12 64-bit ('d2l': conda)",
   "language": "python",
   "name": "python3"
  },
  "language_info": {
   "codemirror_mode": {
    "name": "ipython",
    "version": 3
   },
   "file_extension": ".py",
   "mimetype": "text/x-python",
   "name": "python",
   "nbconvert_exporter": "python",
   "pygments_lexer": "ipython3",
   "version": "3.8.12"
  },
  "orig_nbformat": 4
 },
 "nbformat": 4,
 "nbformat_minor": 2
}
