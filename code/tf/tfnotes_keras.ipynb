{
 "cells": [
  {
   "cell_type": "code",
   "execution_count": 1,
   "metadata": {},
   "outputs": [],
   "source": [
    "import tensorflow as tf\n",
    "from datetime import datetime"
   ]
  },
  {
   "cell_type": "markdown",
   "metadata": {},
   "source": [
    "# keras API\n",
    "keras API是tf.Module的多层次高级封装"
   ]
  },
  {
   "cell_type": "markdown",
   "metadata": {},
   "source": [
    "## tf.keras.layers.Layer (inherit from tf.Module)\n",
    "tf.keras.layers.Layer继承于tf.Module，做了一些的封装  \n",
    "如果想使用这些功能，只需自定义keras layer，继承tf.keras.layers.Layer  "
   ]
  },
  {
   "cell_type": "markdown",
   "metadata": {},
   "source": [
    "### 自定义keras layer\n",
    "继承tf.keras.layers.Layer，并自定义call方法。  \n",
    "(tf.keras.layers.Layer内部封装了__call__函数，它会调用用户自定义的call函数。所以可以用tf.function修饰call函数来得到静态图)  "
   ]
  },
  {
   "cell_type": "code",
   "execution_count": 2,
   "metadata": {},
   "outputs": [
    {
     "name": "stderr",
     "output_type": "stream",
     "text": [
      "2022-02-10 15:50:48.561090: I tensorflow/core/platform/cpu_feature_guard.cc:142] This TensorFlow binary is optimized with oneAPI Deep Neural Network Library (oneDNN)to use the following CPU instructions in performance-critical operations:  AVX2 FMA\n",
      "To enable them in other operations, rebuild TensorFlow with the appropriate compiler flags.\n",
      "2022-02-10 15:50:48.580270: I tensorflow/compiler/xla/service/service.cc:168] XLA service 0x7fe52ec0cb70 initialized for platform Host (this does not guarantee that XLA will be used). Devices:\n",
      "2022-02-10 15:50:48.580287: I tensorflow/compiler/xla/service/service.cc:176]   StreamExecutor device (0): Host, Default Version\n"
     ]
    }
   ],
   "source": [
    "class MyDense(tf.keras.layers.Layer):\n",
    "    # adding **kwargs to support keras layer arguments\n",
    "    # 在初始化一个实例的时候，就申请内存，创建变量w和b\n",
    "    # 所以需要给定input dimension\n",
    "    def __init__(self, in_features, out_features, **kwargs):\n",
    "        super().__init__(**kwargs)\n",
    "        self.w = tf.Variable(\n",
    "            tf.random.normal([in_features, out_features]\n",
    "            ,name='w')\n",
    "        )\n",
    "        self.b = tf.Variable(\n",
    "            tf.zeros([out_features])\n",
    "            ,name='b'\n",
    "        )\n",
    "    def call(self, x):\n",
    "        y = tf.matmul(x, self.w) + self.b\n",
    "        return tf.nn.relu(y)\n",
    "simple_layer = MyDense(name='simple', in_features=3, out_features=3)"
   ]
  },
  {
   "cell_type": "code",
   "execution_count": 18,
   "metadata": {},
   "outputs": [
    {
     "data": {
      "text/plain": [
       "<tf.Tensor: shape=(1, 3), dtype=float32, numpy=array([[2.8555908, 0.       , 0.       ]], dtype=float32)>"
      ]
     },
     "execution_count": 18,
     "metadata": {},
     "output_type": "execute_result"
    }
   ],
   "source": [
    "# 调用\n",
    "simple_layer(tf.constant([[2.0, 2.0, 2.0]]))"
   ]
  },
  {
   "cell_type": "markdown",
   "metadata": {},
   "source": [
    "如果希望做到：  \n",
    "拿到input data，再决定如何创建w和b变量，那么就需要做到  在第一次调用的时候，申请w和b的内存空间并创建tf.Variable  \n",
    "如果使用tf.Module父类，使用内部变量is_built来甄别是否是第一次调用  \n",
    "如果使用tf.keras.layers.Layer父类，可以在build方法中定义变量。该build方法只会call函数第一次调用的时候，被调用。  "
   ]
  },
  {
   "cell_type": "code",
   "execution_count": 3,
   "metadata": {},
   "outputs": [],
   "source": [
    "class FlexibleDense(tf.keras.layers.Layer):\n",
    "    # 实例化模型的时候，只需要传入output dim，不需要传入input dim\n",
    "    def __init__(self, out_features, **kwargs):\n",
    "        super().__init__(**kwargs)\n",
    "        self.out_features = out_features\n",
    "    # build方法，创建变量。会在第一次调用模型的时候调用build方法\n",
    "    # build方法会自动传入一个变量名为 input_shape的变量，是input data的shape\n",
    "    def build(self, input_shape):\n",
    "        self.w = tf.Variable(\n",
    "            tf.random.normal([input_shape[-1], self.out_features])\n",
    "            ,name='w'\n",
    "        )\n",
    "        self.b = tf.Variable(\n",
    "            tf.zeros([self.out_features]\n",
    "            ,name='b')\n",
    "        )\n",
    "    def call(self, inputs):\n",
    "        return tf.matmul(inputs, self.w) + self.b"
   ]
  },
  {
   "cell_type": "code",
   "execution_count": 4,
   "metadata": {},
   "outputs": [],
   "source": [
    "flexible_dense = FlexibleDense(out_features=3)"
   ]
  },
  {
   "cell_type": "code",
   "execution_count": 5,
   "metadata": {},
   "outputs": [
    {
     "data": {
      "text/plain": [
       "[]"
      ]
     },
     "execution_count": 5,
     "metadata": {},
     "output_type": "execute_result"
    }
   ],
   "source": [
    "# 此时tf.Variables尚未创建\n",
    "flexible_dense.variables"
   ]
  },
  {
   "cell_type": "code",
   "execution_count": 6,
   "metadata": {},
   "outputs": [
    {
     "data": {
      "text/plain": [
       "<tf.Tensor: shape=(2, 3), dtype=float32, numpy=\n",
       "array([[-4.504209  ,  0.3593073 , -0.5687275 ],\n",
       "       [-6.756314  ,  0.5389614 , -0.85309076]], dtype=float32)>"
      ]
     },
     "execution_count": 6,
     "metadata": {},
     "output_type": "execute_result"
    }
   ],
   "source": [
    "flexible_dense(tf.constant([[2.0, 2.0, 2.0], [3.0, 3.0, 3.0]]))"
   ]
  },
  {
   "cell_type": "code",
   "execution_count": 7,
   "metadata": {},
   "outputs": [
    {
     "data": {
      "text/plain": [
       "[<tf.Variable 'flexible_dense/w:0' shape=(3, 3) dtype=float32, numpy=\n",
       " array([[-0.15537804, -1.0250663 , -1.783119  ],\n",
       "        [-0.57370484, -0.23540384, -0.12965351],\n",
       "        [-1.5230217 ,  1.4401238 ,  1.6284087 ]], dtype=float32)>,\n",
       " <tf.Variable 'flexible_dense/Variable:0' shape=(3,) dtype=float32, numpy=array([0., 0., 0.], dtype=float32)>]"
      ]
     },
     "execution_count": 7,
     "metadata": {},
     "output_type": "execute_result"
    }
   ],
   "source": [
    "# 查看变量tf.Variables\n",
    "flexible_dense.variables"
   ]
  },
  {
   "cell_type": "code",
   "execution_count": 9,
   "metadata": {},
   "outputs": [
    {
     "name": "stdout",
     "output_type": "stream",
     "text": [
      "Failed:  Matrix size-incompatible: In[0]: [1,4], In[1]: [3,3] [Op:MatMul]\n"
     ]
    }
   ],
   "source": [
    "# 对于该实例，build只会跑一次\n",
    "try:\n",
    "    print('module result: ', flexible_dense(tf.constant([[2.0, 2.0, 2.0, 2.0]])))\n",
    "except tf.errors.InvalidArgumentError as e:\n",
    "    print(\"Failed: \", e)"
   ]
  },
  {
   "cell_type": "markdown",
   "metadata": {},
   "source": [
    "## tf.keras.Model (inherit from tf.keras.layers.Layer)\n",
    "tf.keras.Model继承自tf.keras.layers.Layer，再做了额外的封装  \n",
    "如果想使用这些额外的功能，只需自定义keras model，继承tf.keras.Model  "
   ]
  },
  {
   "cell_type": "code",
   "execution_count": 8,
   "metadata": {},
   "outputs": [],
   "source": [
    "class MySequentialModel(tf.keras.Model):\n",
    "    def __init__(self, name=None, **kwargs):\n",
    "        super().__init__(**kwargs)\n",
    "        self.dense_1 = FlexibleDense(out_features=3)\n",
    "        self.dense_2 = FlexibleDense(out_features=2)\n",
    "    def call(self, x):\n",
    "        x = self.dense_1(x)\n",
    "        return self.dense_2(x)"
   ]
  },
  {
   "cell_type": "code",
   "execution_count": 10,
   "metadata": {},
   "outputs": [],
   "source": [
    "my_sequential_model = MySequentialModel(name=\"the_model\")"
   ]
  },
  {
   "cell_type": "code",
   "execution_count": 14,
   "metadata": {},
   "outputs": [
    {
     "name": "stdout",
     "output_type": "stream",
     "text": [
      "Model results: tf.Tensor([[ 5.22138   -1.8527935]], shape=(1, 2), dtype=float32)\n"
     ]
    }
   ],
   "source": [
    "print(\"Model results:\", my_sequential_model(tf.constant([[2.0, 2.0, 2.0]])))"
   ]
  },
  {
   "cell_type": "code",
   "execution_count": 23,
   "metadata": {},
   "outputs": [
    {
     "data": {
      "text/plain": [
       "[<tf.Variable 'my_sequential_model_1/flexible_dense_3/w:0' shape=(3, 3) dtype=float32, numpy=\n",
       " array([[-1.6518539 ,  1.3783681 , -0.6574261 ],\n",
       "        [-0.06599645, -0.01801451, -2.054874  ],\n",
       "        [-0.47529003,  0.68516475,  1.8836492 ]], dtype=float32)>,\n",
       " <tf.Variable 'my_sequential_model_1/flexible_dense_3/Variable:0' shape=(3,) dtype=float32, numpy=array([0., 0., 0.], dtype=float32)>,\n",
       " <tf.Variable 'my_sequential_model_1/flexible_dense_4/w:0' shape=(3, 2) dtype=float32, numpy=\n",
       " array([[ 0.18086936,  0.6117754 ],\n",
       "        [ 0.9098838 ,  0.2843005 ],\n",
       "        [ 1.2947271 , -1.2913182 ]], dtype=float32)>,\n",
       " <tf.Variable 'my_sequential_model_1/flexible_dense_4/Variable:0' shape=(2,) dtype=float32, numpy=array([0., 0.], dtype=float32)>]"
      ]
     },
     "execution_count": 23,
     "metadata": {},
     "output_type": "execute_result"
    }
   ],
   "source": [
    "my_sequential_model.variables"
   ]
  },
  {
   "cell_type": "markdown",
   "metadata": {},
   "source": [
    "目前来看，tf模型可以是多种类的混杂，包括tf.Module, tf.keras.layers.Layer, tf.keras.Model  \n",
    "推荐用同一类tf模型：要么只用tf.Module，要么只用tf.keras  "
   ]
  },
  {
   "cell_type": "code",
   "execution_count": 15,
   "metadata": {},
   "outputs": [
    {
     "name": "stdout",
     "output_type": "stream",
     "text": [
      "Model: \"my_sequential_model\"\n",
      "_________________________________________________________________\n",
      "Layer (type)                 Output Shape              Param #   \n",
      "=================================================================\n",
      "flexible_dense_1 (FlexibleDe multiple                  12        \n",
      "_________________________________________________________________\n",
      "flexible_dense_2 (FlexibleDe multiple                  8         \n",
      "=================================================================\n",
      "Total params: 20\n",
      "Trainable params: 20\n",
      "Non-trainable params: 0\n",
      "_________________________________________________________________\n"
     ]
    }
   ],
   "source": [
    "my_sequential_model.summary()"
   ]
  },
  {
   "cell_type": "markdown",
   "metadata": {},
   "source": [
    "# 保存keras model\n",
    "根据tf.Module类的用法，keras model可以使用tf.saved_model.save()以及tf.saved_model.load()来分别储存和读取  "
   ]
  },
  {
   "cell_type": "markdown",
   "metadata": {},
   "source": [
    "keras model也定义了.save()方法，来保存model（graph文件和checkpoints）"
   ]
  },
  {
   "cell_type": "code",
   "execution_count": 12,
   "metadata": {},
   "outputs": [
    {
     "name": "stdout",
     "output_type": "stream",
     "text": [
      "WARNING:tensorflow:From /Users/lhy/miniconda3/envs/d2l/lib/python3.8/site-packages/tensorflow/python/training/tracking/tracking.py:111: Model.state_updates (from tensorflow.python.keras.engine.training) is deprecated and will be removed in a future version.\n",
      "Instructions for updating:\n",
      "This property should not be used in TensorFlow 2.0, as updates are applied automatically.\n",
      "WARNING:tensorflow:From /Users/lhy/miniconda3/envs/d2l/lib/python3.8/site-packages/tensorflow/python/training/tracking/tracking.py:111: Layer.updates (from tensorflow.python.keras.engine.base_layer) is deprecated and will be removed in a future version.\n",
      "Instructions for updating:\n",
      "This property should not be used in TensorFlow 2.0, as updates are applied automatically.\n",
      "INFO:tensorflow:Assets written to: ../../model/exname_of_keras_file/assets\n"
     ]
    },
    {
     "name": "stderr",
     "output_type": "stream",
     "text": [
      "2022-02-10 15:51:24.232585: W tensorflow/python/util/util.cc:348] Sets are not currently considered sequences, but this may change in the future, so consider avoiding using them.\n"
     ]
    }
   ],
   "source": [
    "my_sequential_model.save(\"../../model/exname_of_keras_file\")"
   ]
  },
  {
   "cell_type": "markdown",
   "metadata": {},
   "source": [
    "keras model定义了tf.keras.models.load_model()方法，来读取model"
   ]
  },
  {
   "cell_type": "code",
   "execution_count": 13,
   "metadata": {},
   "outputs": [
    {
     "name": "stdout",
     "output_type": "stream",
     "text": [
      "WARNING:tensorflow:No training configuration found in save file, so the model was *not* compiled. Compile it manually.\n"
     ]
    }
   ],
   "source": [
    "reconstructed_model = tf.keras.models.load_model(\"../../model/exname_of_keras_file\")"
   ]
  },
  {
   "cell_type": "code",
   "execution_count": 15,
   "metadata": {},
   "outputs": [
    {
     "data": {
      "text/plain": [
       "<tf.Tensor: shape=(1, 2), dtype=float32, numpy=array([[ 5.22138  , -1.8527935]], dtype=float32)>"
      ]
     },
     "execution_count": 15,
     "metadata": {},
     "output_type": "execute_result"
    }
   ],
   "source": [
    "reconstructed_model(tf.constant([[2.0, 2.0, 2.0]]))"
   ]
  }
 ],
 "metadata": {
  "interpreter": {
   "hash": "358c856c2c9243453432cede0b7a0ffead5a19b5df3cbac804ae558d1878f503"
  },
  "kernelspec": {
   "display_name": "Python 3.8.12 64-bit ('d2l': conda)",
   "language": "python",
   "name": "python3"
  },
  "language_info": {
   "codemirror_mode": {
    "name": "ipython",
    "version": 3
   },
   "file_extension": ".py",
   "mimetype": "text/x-python",
   "name": "python",
   "nbconvert_exporter": "python",
   "pygments_lexer": "ipython3",
   "version": "3.8.12"
  },
  "orig_nbformat": 4
 },
 "nbformat": 4,
 "nbformat_minor": 2
}
