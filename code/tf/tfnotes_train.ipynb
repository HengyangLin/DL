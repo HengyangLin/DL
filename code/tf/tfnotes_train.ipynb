{
 "cells": [
  {
   "cell_type": "markdown",
   "metadata": {},
   "source": [
    "# Train Loop （built-in method）"
   ]
  },
  {
   "cell_type": "code",
   "execution_count": 1,
   "metadata": {},
   "outputs": [],
   "source": [
    "import tensorflow as tf\n",
    "\n",
    "import matplotlib.pyplot as plt\n",
    "\n",
    "colors = plt.rcParams['axes.prop_cycle'].by_key()['color']"
   ]
  },
  {
   "cell_type": "code",
   "execution_count": 2,
   "metadata": {},
   "outputs": [
    {
     "name": "stderr",
     "output_type": "stream",
     "text": [
      "2022-02-15 16:33:10.310833: I tensorflow/core/platform/cpu_feature_guard.cc:142] This TensorFlow binary is optimized with oneAPI Deep Neural Network Library (oneDNN)to use the following CPU instructions in performance-critical operations:  AVX2 FMA\n",
      "To enable them in other operations, rebuild TensorFlow with the appropriate compiler flags.\n",
      "2022-02-15 16:33:10.333454: I tensorflow/compiler/xla/service/service.cc:168] XLA service 0x7fef3e683750 initialized for platform Host (this does not guarantee that XLA will be used). Devices:\n",
      "2022-02-15 16:33:10.333468: I tensorflow/compiler/xla/service/service.cc:176]   StreamExecutor device (0): Host, Default Version\n"
     ]
    }
   ],
   "source": [
    "# 数据合成\n",
    "# The actual line\n",
    "TRUE_W = 3.0\n",
    "TRUE_B = 2.0\n",
    "\n",
    "NUM_EXAMPLES = 201\n",
    "\n",
    "# A vector of random x values\n",
    "x = tf.linspace(-2,2, NUM_EXAMPLES)\n",
    "x = tf.cast(x, tf.float32)\n",
    "\n",
    "def f(x):\n",
    "  return x * TRUE_W + TRUE_B\n",
    "\n",
    "# Generate some noise\n",
    "noise = tf.random.normal(shape=[NUM_EXAMPLES])\n",
    "\n",
    "# Calculate y\n",
    "y = f(x) + noise"
   ]
  },
  {
   "cell_type": "code",
   "execution_count": 3,
   "metadata": {},
   "outputs": [
    {
     "name": "stdout",
     "output_type": "stream",
     "text": [
      "Variables: (<tf.Variable 'Variable:0' shape=() dtype=float32, numpy=0.0>, <tf.Variable 'Variable:0' shape=() dtype=float32, numpy=5.0>)\n"
     ]
    },
    {
     "name": "stderr",
     "output_type": "stream",
     "text": [
      "2022-02-15 16:33:55.760202: W tensorflow/python/util/util.cc:348] Sets are not currently considered sequences, but this may change in the future, so consider avoiding using them.\n"
     ]
    }
   ],
   "source": [
    "# 前向过程\n",
    "class MyModel(tf.Module):\n",
    "  def __init__(self, **kwargs):\n",
    "    super().__init__(**kwargs)\n",
    "    # Initialize the weights to `5.0` and the bias to `0.0`\n",
    "    # In practice, these should be randomly initialized\n",
    "    self.w = tf.Variable(5.0)\n",
    "    self.b = tf.Variable(0.0)\n",
    "\n",
    "  def __call__(self, x):\n",
    "    return self.w * x + self.b\n",
    "\n",
    "model = MyModel()\n",
    "\n",
    "# List the variables tf.modules's built-in variable aggregation.\n",
    "print(\"Variables:\", model.variables)"
   ]
  },
  {
   "cell_type": "code",
   "execution_count": 4,
   "metadata": {},
   "outputs": [],
   "source": [
    "# Verify the model works\n",
    "assert model(3.0).numpy() == 15.0"
   ]
  },
  {
   "cell_type": "code",
   "execution_count": 5,
   "metadata": {},
   "outputs": [],
   "source": [
    "# 损失函数\n",
    "# This computes a single loss value for an entire batch\n",
    "def loss(target_y, predicted_y):\n",
    "  return tf.reduce_mean(tf.square(target_y - predicted_y))"
   ]
  },
  {
   "cell_type": "code",
   "execution_count": 9,
   "metadata": {},
   "outputs": [
    {
     "data": {
      "image/png": "[encoded data removed]",
      "text/plain": [
       "<Figure size 432x288 with 1 Axes>"
      ]
     },
     "metadata": {
      "needs_background": "light"
     },
     "output_type": "display_data"
    }
   ],
   "source": [
    "# 展示数据\n",
    "plt.plot(x, y, '.', label=\"Data\")\n",
    "plt.plot(x, f(x), label=\"Ground truth\")\n",
    "plt.plot(x, model(x), label=\"Predictions\")\n",
    "plt.legend()\n",
    "plt.show()"
   ]
  },
  {
   "cell_type": "code",
   "execution_count": 10,
   "metadata": {},
   "outputs": [
    {
     "name": "stdout",
     "output_type": "stream",
     "text": [
      "current loss: 10.586820\n"
     ]
    }
   ],
   "source": [
    "# 初始损失\n",
    "print(\"current loss: %1.6f\" % loss(y, model(x)))"
   ]
  },
  {
   "cell_type": "markdown",
   "metadata": {},
   "source": [
    "训练的过程：  \n",
    "持续做：  \n",
    "1. 输入批次，产生输出\n",
    "2. 对比输出和真实标签，产生损失loss\n",
    "3. 找到变量的梯度\n",
    "4. 更新变量\n",
    "\n",
    "步骤1和2用gradientTape记录，步骤3用gradTape.gradient()方法来求得，步骤4用tf.Variables.assign_sub()方法来更新参数"
   ]
  },
  {
   "cell_type": "code",
   "execution_count": 11,
   "metadata": {},
   "outputs": [],
   "source": [
    "def train(model, x, y, learning_rate):\n",
    "    with tf.GradientTape() as t:\n",
    "        # 可训练变量自动被gradientTape记录\n",
    "        current_loss = loss(y, model(x))\n",
    "    # 求梯度\n",
    "    dw, db = t.gradient(current_loss, [model.w, model.b])\n",
    "    # 更新参数\n",
    "    model.w.assign_sub(learning_rate * dw)\n",
    "    model.b.assign_sub(learning_rate * db)"
   ]
  },
  {
   "cell_type": "code",
   "execution_count": 18,
   "metadata": {},
   "outputs": [],
   "source": [
    "model = MyModel()\n",
    "# Collect the history of W-values and b-values to plot later\n",
    "weights = []\n",
    "biases = []\n",
    "epochs = 10"
   ]
  },
  {
   "cell_type": "code",
   "execution_count": 14,
   "metadata": {},
   "outputs": [],
   "source": [
    "# Define a training loop\n",
    "def report(model, current_loss):\n",
    "    return f\"W = {model.w.numpy():1.2f}, b = {model.b.numpy():1.2f}, loss={current_loss:2.5f}\""
   ]
  },
  {
   "cell_type": "code",
   "execution_count": 19,
   "metadata": {},
   "outputs": [],
   "source": [
    "def training_loop(model, x, y):\n",
    "    for epoch in range(epochs):\n",
    "        # 用所有样本来更新模型\n",
    "        train(model, x, y, learning_rate=0.1)\n",
    "        # 记录参数\n",
    "        weights.append(model.w.numpy())\n",
    "        biases.append(model.b.numpy())\n",
    "        current_loss = loss(y, model(x))\n",
    "\n",
    "        print(f\"Epoch {epoch:2d}\")\n",
    "        print(\"     \", report(model, current_loss))"
   ]
  },
  {
   "cell_type": "code",
   "execution_count": 20,
   "metadata": {},
   "outputs": [
    {
     "name": "stdout",
     "output_type": "stream",
     "text": [
      "Starting:\n",
      "     W = 5.00, b = 0.00, loss=10.58682\n"
     ]
    }
   ],
   "source": [
    "init_loss = loss(y, model(x))\n",
    "print(f\"Starting:\")\n",
    "print(\"    \", report(model, init_loss))"
   ]
  },
  {
   "cell_type": "code",
   "execution_count": 21,
   "metadata": {},
   "outputs": [
    {
     "name": "stdout",
     "output_type": "stream",
     "text": [
      "Epoch  0\n",
      "      W = 4.47, b = 0.41, loss=6.61028\n",
      "Epoch  1\n",
      "      W = 4.08, b = 0.75, loss=4.32352\n",
      "Epoch  2\n",
      "      W = 3.80, b = 1.01, loss=2.99785\n",
      "Epoch  3\n",
      "      W = 3.59, b = 1.22, loss=2.22302\n",
      "Epoch  4\n",
      "      W = 3.44, b = 1.39, loss=1.76642\n",
      "Epoch  5\n",
      "      W = 3.33, b = 1.53, loss=1.49518\n",
      "Epoch  6\n",
      "      W = 3.25, b = 1.64, loss=1.33278\n",
      "Epoch  7\n",
      "      W = 3.19, b = 1.72, loss=1.23482\n",
      "Epoch  8\n",
      "      W = 3.15, b = 1.79, loss=1.17532\n",
      "Epoch  9\n",
      "      W = 3.12, b = 1.85, loss=1.13895\n"
     ]
    }
   ],
   "source": [
    "training_loop(model, x, y)"
   ]
  },
  {
   "cell_type": "code",
   "execution_count": 22,
   "metadata": {},
   "outputs": [
    {
     "data": {
      "image/png": "[encoded data removed]",
      "text/plain": [
       "<Figure size 432x288 with 1 Axes>"
      ]
     },
     "metadata": {
      "needs_background": "light"
     },
     "output_type": "display_data"
    }
   ],
   "source": [
    "plt.plot(range(epochs), weights)\n",
    "plt.plot(range(epochs), [TRUE_W]*epochs, \"--\")\n",
    "plt.plot(range(epochs), biases)\n",
    "plt.plot(range(epochs), [TRUE_B]*epochs, \"--\")\n",
    "plt.show()"
   ]
  },
  {
   "cell_type": "markdown",
   "metadata": {},
   "source": [
    "# Train Loop (keras method)"
   ]
  },
  {
   "cell_type": "markdown",
   "metadata": {},
   "source": [
    "使用keras对象定义好模型之后，可以使用tf.Module类似的方法（即gradientTape等）来更新模型  "
   ]
  },
  {
   "cell_type": "code",
   "execution_count": 23,
   "metadata": {},
   "outputs": [
    {
     "name": "stdout",
     "output_type": "stream",
     "text": [
      "Epoch  0\n",
      "      W = 4.47, b = 0.41, loss=6.61028\n",
      "Epoch  1\n",
      "      W = 4.08, b = 0.75, loss=4.32352\n",
      "Epoch  2\n",
      "      W = 3.80, b = 1.01, loss=2.99785\n",
      "Epoch  3\n",
      "      W = 3.59, b = 1.22, loss=2.22302\n",
      "Epoch  4\n",
      "      W = 3.44, b = 1.39, loss=1.76642\n",
      "Epoch  5\n",
      "      W = 3.33, b = 1.53, loss=1.49518\n",
      "Epoch  6\n",
      "      W = 3.25, b = 1.64, loss=1.33278\n",
      "Epoch  7\n",
      "      W = 3.19, b = 1.72, loss=1.23482\n",
      "Epoch  8\n",
      "      W = 3.15, b = 1.79, loss=1.17532\n",
      "Epoch  9\n",
      "      W = 3.12, b = 1.85, loss=1.13895\n"
     ]
    }
   ],
   "source": [
    "# 使用keras接口来定义model\n",
    "class MyModelKeras(tf.keras.Model):\n",
    "    def __init__(self, **kwargs):\n",
    "        super().__init__(**kwargs)\n",
    "        self.w = tf.Variable(5.0)\n",
    "        self.b = tf.Variable(0.0)\n",
    "\n",
    "    def call(self, x):\n",
    "        return self.w * x + self.b\n",
    "\n",
    "keras_model = MyModelKeras()\n",
    "\n",
    "# Reuse the training loop with a Keras model\n",
    "training_loop(keras_model, x, y)\n",
    "\n",
    "# You can also save a checkpoint using Keras's built-in support\n",
    "keras_model.save_weights(\"../../model/my_linear_keras_checkpoint\")"
   ]
  },
  {
   "cell_type": "markdown",
   "metadata": {},
   "source": [
    "keras model也可以使用.compile()方法来设定参数，比如优化器和loss函数；并使用.fit()方法来训练"
   ]
  },
  {
   "cell_type": "code",
   "execution_count": 24,
   "metadata": {},
   "outputs": [],
   "source": [
    "keras_model = MyModelKeras()\n",
    "# .compile()方法\n",
    "\n",
    "keras_model.compile(\n",
    "    # By default, fit() uses tf.function().  You can\n",
    "    # turn that off for debugging, but it is on now.\n",
    "    run_eagerly=False,\n",
    "\n",
    "    # Using a built-in optimizer, configuring as an object\n",
    "    optimizer=tf.keras.optimizers.SGD(learning_rate=0.1),\n",
    "\n",
    "    # Keras comes with built-in MSE error\n",
    "    # However, you could use the loss function\n",
    "    # defined above\n",
    "    loss=tf.keras.losses.mean_squared_error,\n",
    ")"
   ]
  },
  {
   "cell_type": "code",
   "execution_count": null,
   "metadata": {},
   "outputs": [],
   "source": [
    "# .fit()方法接受批次数据；也可接受完整数据（numpy array），并根据batch_size参数来切割"
   ]
  },
  {
   "cell_type": "code",
   "execution_count": 27,
   "metadata": {},
   "outputs": [
    {
     "name": "stdout",
     "output_type": "stream",
     "text": [
      "201\n",
      "Epoch 1/10\n",
      "1/1 [==============================] - 0s 2ms/step - loss: 10.5868\n",
      "Epoch 2/10\n",
      "1/1 [==============================] - 0s 632us/step - loss: 6.6103\n",
      "Epoch 3/10\n",
      "1/1 [==============================] - 0s 708us/step - loss: 4.3235\n",
      "Epoch 4/10\n",
      "1/1 [==============================] - 0s 753us/step - loss: 2.9979\n",
      "Epoch 5/10\n",
      "1/1 [==============================] - 0s 1ms/step - loss: 2.2230\n",
      "Epoch 6/10\n",
      "1/1 [==============================] - 0s 693us/step - loss: 1.7664\n",
      "Epoch 7/10\n",
      "1/1 [==============================] - 0s 584us/step - loss: 1.4952\n",
      "Epoch 8/10\n",
      "1/1 [==============================] - 0s 671us/step - loss: 1.3328\n",
      "Epoch 9/10\n",
      "1/1 [==============================] - 0s 561us/step - loss: 1.2348\n",
      "Epoch 10/10\n",
      "1/1 [==============================] - 0s 851us/step - loss: 1.1753\n"
     ]
    },
    {
     "data": {
      "text/plain": [
       "<tensorflow.python.keras.callbacks.History at 0x7fef214f0400>"
      ]
     },
     "execution_count": 27,
     "metadata": {},
     "output_type": "execute_result"
    }
   ],
   "source": [
    "print(x.shape[0])\n",
    "keras_model.fit(x, y, epochs=10, batch_size=1000)"
   ]
  }
 ],
 "metadata": {
  "interpreter": {
   "hash": "358c856c2c9243453432cede0b7a0ffead5a19b5df3cbac804ae558d1878f503"
  },
  "kernelspec": {
   "display_name": "Python 3.8.12 64-bit ('d2l': conda)",
   "language": "python",
   "name": "python3"
  },
  "language_info": {
   "codemirror_mode": {
    "name": "ipython",
    "version": 3
   },
   "file_extension": ".py",
   "mimetype": "text/x-python",
   "name": "python",
   "nbconvert_exporter": "python",
   "pygments_lexer": "ipython3",
   "version": "3.8.12"
  },
  "orig_nbformat": 4
 },
 "nbformat": 4,
 "nbformat_minor": 2
}
